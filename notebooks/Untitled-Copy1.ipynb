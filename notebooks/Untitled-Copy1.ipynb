{
 "cells": [
  {
   "cell_type": "code",
   "execution_count": 1,
   "id": "11d5bd47-3c24-4ee0-862e-7111256c2743",
   "metadata": {},
   "outputs": [],
   "source": [
    "import cxxcimod\n",
    "import time\n",
    "import matplotlib.pyplot as plt"
   ]
  },
  {
   "cell_type": "code",
   "execution_count": 2,
   "id": "ff10ebcb-c1a6-4345-a96e-3bca1f9619e8",
   "metadata": {},
   "outputs": [],
   "source": [
    "N = 200\n",
    "res1 = []\n",
    "res2 = []\n",
    "res3 = []"
   ]
  },
  {
   "cell_type": "code",
   "execution_count": 3,
   "id": "33a8a3a0-0d2d-469e-a2ff-34f8ec2d4445",
   "metadata": {},
   "outputs": [
    {
     "name": "stdout",
     "output_type": "stream",
     "text": [
      "int, bpm_v: 1.1248650550842285\n",
      "int, bpm: 1.3592250347137451\n"
     ]
    }
   ],
   "source": [
    "bpm_v = cxxcimod.BinaryPolynomialModelVariant(cxxcimod.SPIN)\n",
    "start = time.time()\n",
    "for i in range(N):\n",
    "    for j in range(i+1, N):\n",
    "        for k in range(j+1, N):\n",
    "            bpm_v.add_interaction((i, j, k), 1.0)\n",
    "print(\"int, bpm_v:\", time.time() - start)\n",
    "res1.append(time.time() - start)\n",
    "\n",
    "bpm = cxxcimod.BinaryPolynomialModel({}, cxxcimod.SPIN)\n",
    "start = time.time()\n",
    "for i in range(N):\n",
    "    for j in range(i+1, N):\n",
    "        for k in range(j+1, N):\n",
    "            bpm.add_interaction([i, j, k], 1.0)\n",
    "print(\"int, bpm:\", time.time() - start)\n",
    "res1.append(time.time() - start)"
   ]
  },
  {
   "cell_type": "code",
   "execution_count": 4,
   "id": "89393d0d-6cfe-4be0-96eb-07884424ae78",
   "metadata": {},
   "outputs": [
    {
     "name": "stdout",
     "output_type": "stream",
     "text": [
      "str, bpm_v: 2.0712480545043945\n",
      "str, bpm: 3.0099170207977295\n"
     ]
    }
   ],
   "source": [
    "# Generate str index\n",
    "str_index_list = []\n",
    "for i in range(N):\n",
    "    for j in range(i+1, N):\n",
    "        for k in range(j+1, N):\n",
    "            str_index_list.append([str(i) + \", \" + str(j) + \", \" + str(k)])\n",
    "\n",
    "bpm_v = cxxcimod.BinaryPolynomialModelVariant(cxxcimod.SPIN)\n",
    "start = time.time()\n",
    "for key in str_index_list:\n",
    "    bpm_v.add_interaction(key, 1.0)\n",
    "print(\"str, bpm_v:\", time.time() - start)\n",
    "res2.append(time.time() - start)\n",
    "\n",
    "bpm = cxxcimod.BinaryPolynomialModel_str({}, cxxcimod.SPIN)\n",
    "start = time.time()\n",
    "for key in str_index_list:\n",
    "    bpm.add_interaction(key, 1.0)\n",
    "print(\"str, bpm:\", time.time() - start)\n",
    "res2.append(time.time() - start)"
   ]
  },
  {
   "cell_type": "code",
   "execution_count": 5,
   "id": "f5ffbaa6-33e7-44b7-8097-cc19509afe25",
   "metadata": {},
   "outputs": [
    {
     "name": "stdout",
     "output_type": "stream",
     "text": [
      "int_tuple2, bpm_v: 3.0671260356903076\n",
      "int_tuple2, bpm: 2.0908942222595215\n"
     ]
    }
   ],
   "source": [
    "bpm_v = cxxcimod.BinaryPolynomialModelVariant(cxxcimod.SPIN)\n",
    "start = time.time()\n",
    "for i in range(N):\n",
    "    for j in range(i+1, N):\n",
    "        for k in range(j+1, N):\n",
    "            bpm_v.add_interaction([(i, i), (j, j), (k, k)], 1.0)\n",
    "print(\"int_tuple2, bpm_v:\", time.time() - start)\n",
    "res3.append(time.time() - start)\n",
    "\n",
    "bpm = cxxcimod.BinaryPolynomialModel_tuple2({}, cxxcimod.SPIN)\n",
    "start = time.time()\n",
    "for i in range(N):\n",
    "    for j in range(i+1, N):\n",
    "        for k in range(j+1, N):\n",
    "            bpm.add_interaction([(i, i), (j, j), (k, k)], 1.0)\n",
    "print(\"int_tuple2, bpm:\", time.time() - start)\n",
    "res3.append(time.time() - start)"
   ]
  },
  {
   "cell_type": "code",
   "execution_count": 6,
   "id": "bdc7f462-f6ef-4467-958c-67ad3b002485",
   "metadata": {},
   "outputs": [
    {
     "data": {
      "image/png": "[encoded data removed]",
      "text/plain": [
       "<Figure size 432x288 with 1 Axes>"
      ]
     },
     "metadata": {
      "needs_background": "light"
     },
     "output_type": "display_data"
    }
   ],
   "source": [
    "fig = plt.figure()\n",
    "\n",
    "plt.bar([0,1], res1)\n",
    "plt.xticks([0,1], [\"variant\", \"int64_t\"])\n",
    "\n",
    "plt.bar([3,4], res2)\n",
    "plt.xticks([3,4], [\"variant\", \"string\"])\n",
    "\n",
    "plt.bar([6,7], res3)\n",
    "plt.xticks([0,1,3,4,6,8], [\"variant\", \"int64_t\", \"variant\", \"string\", \"variant\", \"(int64_t, int64_t)\"])\n",
    "\n",
    "fig.savefig(\"img.eps\")\n",
    "plt.show()"
   ]
  },
  {
   "cell_type": "code",
   "execution_count": null,
   "id": "9be0edcc-8320-487e-bb49-09f22aff32b4",
   "metadata": {},
   "outputs": [],
   "source": []
  }
 ],
 "metadata": {
  "kernelspec": {
   "display_name": "Python 3 (ipykernel)",
   "language": "python",
   "name": "python3"
  },
  "language_info": {
   "codemirror_mode": {
    "name": "ipython",
    "version": 3
   },
   "file_extension": ".py",
   "mimetype": "text/x-python",
   "name": "python",
   "nbconvert_exporter": "python",
   "pygments_lexer": "ipython3",
   "version": "3.9.10"
  }
 },
 "nbformat": 4,
 "nbformat_minor": 5
}
