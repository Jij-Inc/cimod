{
 "cells": [
  {
   "cell_type": "code",
   "execution_count": 1,
   "id": "11d5bd47-3c24-4ee0-862e-7111256c2743",
   "metadata": {},
   "outputs": [],
   "source": [
    "import cxxcimod\n",
    "import time\n",
    "import matplotlib.pyplot as plt"
   ]
  },
  {
   "cell_type": "code",
   "execution_count": 2,
   "id": "ff10ebcb-c1a6-4345-a96e-3bca1f9619e8",
   "metadata": {},
   "outputs": [],
   "source": [
    "N = 200\n",
    "res1 = []\n",
    "res2 = []\n",
    "res3 = []"
   ]
  },
  {
   "cell_type": "code",
   "execution_count": 3,
   "id": "6c00726c-e331-4056-9380-ebe3c8f21bd2",
   "metadata": {},
   "outputs": [
    {
     "name": "stdout",
     "output_type": "stream",
     "text": [
      "Append: 0.3883500099182129\n"
     ]
    }
   ],
   "source": [
    "start = time.time()\n",
    "poly_int = {}\n",
    "for i in range(N):\n",
    "    for j in range(i+1, N):\n",
    "        for k in range(j+1, N):\n",
    "            poly_int[(j, i, k)] = 1.0    \n",
    "print(\"Append:\", time.time() - start)\n",
    "keys_int = list(poly_int.keys())\n",
    "values_int = list(poly_int.values())"
   ]
  },
  {
   "cell_type": "code",
   "execution_count": 4,
   "id": "33a8a3a0-0d2d-469e-a2ff-34f8ec2d4445",
   "metadata": {},
   "outputs": [
    {
     "name": "stdout",
     "output_type": "stream",
     "text": [
      "int, bpm_v: 1.2603042125701904\n",
      "int, bpm_l: 0.5702109336853027\n"
     ]
    }
   ],
   "source": [
    "start = time.time()\n",
    "bpm_v = cxxcimod.BinaryPolynomialModelVariant(cxxcimod.SPIN)\n",
    "bpm_v.add_interactions_from(poly_int)\n",
    "print(\"int, bpm_v:\", time.time() - start)\n",
    "\n",
    "\n",
    "start = time.time()\n",
    "bpm_l = cxxcimod.BinaryPolynomialModelVariant(cxxcimod.SPIN)\n",
    "bpm_l.add_interactions_from(list(poly_int.keys()), list(poly_int.values()))\n",
    "print(\"int, bpm_l:\", time.time() - start)\n",
    "res1.append(time.time() - start)"
   ]
  },
  {
   "cell_type": "code",
   "execution_count": 5,
   "id": "89393d0d-6cfe-4be0-96eb-07884424ae78",
   "metadata": {},
   "outputs": [
    {
     "name": "stdout",
     "output_type": "stream",
     "text": [
      "str, bpm_v: 2.078101873397827\n",
      "str, bpm: 2.847324848175049\n"
     ]
    }
   ],
   "source": [
    "# Generate str index\n",
    "str_index_list = []\n",
    "for i in range(N):\n",
    "    for j in range(i+1, N):\n",
    "        for k in range(j+1, N):\n",
    "            str_index_list.append([str(k) + \", \" + str(j) + \", \" + str(i)])\n",
    "\n",
    "bpm_v = cxxcimod.BinaryPolynomialModelVariant(cxxcimod.SPIN)\n",
    "start = time.time()\n",
    "for key in str_index_list:\n",
    "    bpm_v.add_interaction(key, 1.0)\n",
    "print(\"str, bpm_v:\", time.time() - start)\n",
    "res2.append(time.time() - start)\n",
    "\n",
    "bpm = cxxcimod.BinaryPolynomialModel_str({}, cxxcimod.SPIN)\n",
    "start = time.time()\n",
    "for key in str_index_list:\n",
    "    bpm.add_interaction(key, 1.0)\n",
    "print(\"str, bpm:\", time.time() - start)\n",
    "res2.append(time.time() - start)"
   ]
  },
  {
   "cell_type": "code",
   "execution_count": 6,
   "id": "f5ffbaa6-33e7-44b7-8097-cc19509afe25",
   "metadata": {},
   "outputs": [
    {
     "name": "stdout",
     "output_type": "stream",
     "text": [
      "int_tuple2, bpm_v: 2.9837450981140137\n",
      "int_tuple2, bpm: 1.978546142578125\n"
     ]
    }
   ],
   "source": [
    "bpm_v = cxxcimod.BinaryPolynomialModelVariant(cxxcimod.SPIN)\n",
    "start = time.time()\n",
    "for i in range(N):\n",
    "    for j in range(i+1, N):\n",
    "        for k in range(j+1, N):\n",
    "            bpm_v.add_interaction([(k, k), (j, j), (i, i)], 1.0)\n",
    "print(\"int_tuple2, bpm_v:\", time.time() - start)\n",
    "res3.append(time.time() - start)\n",
    "\n",
    "bpm = cxxcimod.BinaryPolynomialModel_tuple2({}, cxxcimod.SPIN)\n",
    "start = time.time()\n",
    "for i in range(N):\n",
    "    for j in range(i+1, N):\n",
    "        for k in range(j+1, N):\n",
    "            bpm.add_interaction([(k, k), (j, j), (i, i)], 1.0)\n",
    "print(\"int_tuple2, bpm:\", time.time() - start)\n",
    "res3.append(time.time() - start)"
   ]
  },
  {
   "cell_type": "code",
   "execution_count": 7,
   "id": "bdc7f462-f6ef-4467-958c-67ad3b002485",
   "metadata": {},
   "outputs": [
    {
     "data": {
      "image/png": "[encoded data removed]",
      "text/plain": [
       "<Figure size 432x288 with 1 Axes>"
      ]
     },
     "metadata": {
      "needs_background": "light"
     },
     "output_type": "display_data"
    }
   ],
   "source": [
    "fig = plt.figure()\n",
    "\n",
    "plt.bar([0,1], res1)\n",
    "plt.xticks([0,1], [\"variant\", \"int64_t\"])\n",
    "\n",
    "plt.bar([3,4], res2)\n",
    "plt.xticks([3,4], [\"variant\", \"string\"])\n",
    "\n",
    "plt.bar([6,7], res3)\n",
    "plt.xticks([0,1,3,4,6,8], [\"variant\", \"int64_t\", \"variant\", \"string\", \"variant\", \"(int64_t, int64_t)\"])\n",
    "\n",
    "fig.savefig(\"img.eps\")\n",
    "plt.show()"
   ]
  },
  {
   "cell_type": "code",
   "execution_count": null,
   "id": "9be0edcc-8320-487e-bb49-09f22aff32b4",
   "metadata": {},
   "outputs": [],
   "source": []
  }
 ],
 "metadata": {
  "kernelspec": {
   "display_name": "Python 3 (ipykernel)",
   "language": "python",
   "name": "python3"
  },
  "language_info": {
   "codemirror_mode": {
    "name": "ipython",
    "version": 3
   },
   "file_extension": ".py",
   "mimetype": "text/x-python",
   "name": "python",
   "nbconvert_exporter": "python",
   "pygments_lexer": "ipython3",
   "version": "3.9.10"
  }
 },
 "nbformat": 4,
 "nbformat_minor": 5
}
